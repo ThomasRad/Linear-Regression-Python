{
 "cells": [
  {
   "cell_type": "markdown",
   "metadata": {},
   "source": [
    "### This notebook will focus on Linear Regression. "
   ]
  },
  {
   "cell_type": "code",
   "execution_count": 225,
   "metadata": {},
   "outputs": [],
   "source": [
    "#First we import some packages of interest. \n",
    "import matplotlib.pyplot as plt\n",
    "import pandas as pd\n",
    "from sklearn.model_selection import train_test_split\n",
    "from sklearn.linear_model import LinearRegression\n",
    "import seaborn as sns\n",
    "from dmba import regressionSummary"
   ]
  },
  {
   "cell_type": "code",
   "execution_count": 226,
   "metadata": {},
   "outputs": [],
   "source": [
    "#Let us load our car dataset into the terminal.\n",
    "car_df = pd.read_csv('ToyotaCorolla.csv')"
   ]
  },
  {
   "cell_type": "code",
   "execution_count": 227,
   "metadata": {},
   "outputs": [
    {
     "data": {
      "text/html": [
       "<div>\n",
       "<style scoped>\n",
       "    .dataframe tbody tr th:only-of-type {\n",
       "        vertical-align: middle;\n",
       "    }\n",
       "\n",
       "    .dataframe tbody tr th {\n",
       "        vertical-align: top;\n",
       "    }\n",
       "\n",
       "    .dataframe thead th {\n",
       "        text-align: right;\n",
       "    }\n",
       "</style>\n",
       "<table border=\"1\" class=\"dataframe\">\n",
       "  <thead>\n",
       "    <tr style=\"text-align: right;\">\n",
       "      <th></th>\n",
       "      <th>Id</th>\n",
       "      <th>Model</th>\n",
       "      <th>Price</th>\n",
       "      <th>Age_08_04</th>\n",
       "      <th>Mfg_Month</th>\n",
       "      <th>Mfg_Year</th>\n",
       "      <th>KM</th>\n",
       "      <th>Fuel_Type</th>\n",
       "      <th>HP</th>\n",
       "      <th>Met_Color</th>\n",
       "      <th>...</th>\n",
       "      <th>Powered_Windows</th>\n",
       "      <th>Power_Steering</th>\n",
       "      <th>Radio</th>\n",
       "      <th>Mistlamps</th>\n",
       "      <th>Sport_Model</th>\n",
       "      <th>Backseat_Divider</th>\n",
       "      <th>Metallic_Rim</th>\n",
       "      <th>Radio_cassette</th>\n",
       "      <th>Parking_Assistant</th>\n",
       "      <th>Tow_Bar</th>\n",
       "    </tr>\n",
       "  </thead>\n",
       "  <tbody>\n",
       "    <tr>\n",
       "      <th>0</th>\n",
       "      <td>1</td>\n",
       "      <td>TOYOTA Corolla 2.0 D4D HATCHB TERRA 2/3-Doors</td>\n",
       "      <td>13500</td>\n",
       "      <td>23</td>\n",
       "      <td>10</td>\n",
       "      <td>2002</td>\n",
       "      <td>46986</td>\n",
       "      <td>Diesel</td>\n",
       "      <td>90</td>\n",
       "      <td>1</td>\n",
       "      <td>...</td>\n",
       "      <td>1</td>\n",
       "      <td>1</td>\n",
       "      <td>0</td>\n",
       "      <td>0</td>\n",
       "      <td>0</td>\n",
       "      <td>1</td>\n",
       "      <td>0</td>\n",
       "      <td>0</td>\n",
       "      <td>0</td>\n",
       "      <td>0</td>\n",
       "    </tr>\n",
       "    <tr>\n",
       "      <th>1</th>\n",
       "      <td>2</td>\n",
       "      <td>TOYOTA Corolla 2.0 D4D HATCHB TERRA 2/3-Doors</td>\n",
       "      <td>13750</td>\n",
       "      <td>23</td>\n",
       "      <td>10</td>\n",
       "      <td>2002</td>\n",
       "      <td>72937</td>\n",
       "      <td>Diesel</td>\n",
       "      <td>90</td>\n",
       "      <td>1</td>\n",
       "      <td>...</td>\n",
       "      <td>0</td>\n",
       "      <td>1</td>\n",
       "      <td>0</td>\n",
       "      <td>0</td>\n",
       "      <td>0</td>\n",
       "      <td>1</td>\n",
       "      <td>0</td>\n",
       "      <td>0</td>\n",
       "      <td>0</td>\n",
       "      <td>0</td>\n",
       "    </tr>\n",
       "    <tr>\n",
       "      <th>2</th>\n",
       "      <td>3</td>\n",
       "      <td>TOYOTA Corolla 2.0 D4D HATCHB TERRA 2/3-Doors</td>\n",
       "      <td>13950</td>\n",
       "      <td>24</td>\n",
       "      <td>9</td>\n",
       "      <td>2002</td>\n",
       "      <td>41711</td>\n",
       "      <td>Diesel</td>\n",
       "      <td>90</td>\n",
       "      <td>1</td>\n",
       "      <td>...</td>\n",
       "      <td>0</td>\n",
       "      <td>1</td>\n",
       "      <td>0</td>\n",
       "      <td>0</td>\n",
       "      <td>0</td>\n",
       "      <td>1</td>\n",
       "      <td>0</td>\n",
       "      <td>0</td>\n",
       "      <td>0</td>\n",
       "      <td>0</td>\n",
       "    </tr>\n",
       "    <tr>\n",
       "      <th>3</th>\n",
       "      <td>4</td>\n",
       "      <td>TOYOTA Corolla 2.0 D4D HATCHB TERRA 2/3-Doors</td>\n",
       "      <td>14950</td>\n",
       "      <td>26</td>\n",
       "      <td>7</td>\n",
       "      <td>2002</td>\n",
       "      <td>48000</td>\n",
       "      <td>Diesel</td>\n",
       "      <td>90</td>\n",
       "      <td>0</td>\n",
       "      <td>...</td>\n",
       "      <td>0</td>\n",
       "      <td>1</td>\n",
       "      <td>0</td>\n",
       "      <td>0</td>\n",
       "      <td>0</td>\n",
       "      <td>1</td>\n",
       "      <td>0</td>\n",
       "      <td>0</td>\n",
       "      <td>0</td>\n",
       "      <td>0</td>\n",
       "    </tr>\n",
       "    <tr>\n",
       "      <th>4</th>\n",
       "      <td>5</td>\n",
       "      <td>TOYOTA Corolla 2.0 D4D HATCHB SOL 2/3-Doors</td>\n",
       "      <td>13750</td>\n",
       "      <td>30</td>\n",
       "      <td>3</td>\n",
       "      <td>2002</td>\n",
       "      <td>38500</td>\n",
       "      <td>Diesel</td>\n",
       "      <td>90</td>\n",
       "      <td>0</td>\n",
       "      <td>...</td>\n",
       "      <td>1</td>\n",
       "      <td>1</td>\n",
       "      <td>0</td>\n",
       "      <td>1</td>\n",
       "      <td>0</td>\n",
       "      <td>1</td>\n",
       "      <td>0</td>\n",
       "      <td>0</td>\n",
       "      <td>0</td>\n",
       "      <td>0</td>\n",
       "    </tr>\n",
       "  </tbody>\n",
       "</table>\n",
       "<p>5 rows × 39 columns</p>\n",
       "</div>"
      ],
      "text/plain": [
       "   Id                                          Model  Price  Age_08_04  \\\n",
       "0   1  TOYOTA Corolla 2.0 D4D HATCHB TERRA 2/3-Doors  13500         23   \n",
       "1   2  TOYOTA Corolla 2.0 D4D HATCHB TERRA 2/3-Doors  13750         23   \n",
       "2   3  TOYOTA Corolla 2.0 D4D HATCHB TERRA 2/3-Doors  13950         24   \n",
       "3   4  TOYOTA Corolla 2.0 D4D HATCHB TERRA 2/3-Doors  14950         26   \n",
       "4   5    TOYOTA Corolla 2.0 D4D HATCHB SOL 2/3-Doors  13750         30   \n",
       "\n",
       "   Mfg_Month  Mfg_Year     KM Fuel_Type  HP  Met_Color  ... Powered_Windows  \\\n",
       "0         10      2002  46986    Diesel  90          1  ...               1   \n",
       "1         10      2002  72937    Diesel  90          1  ...               0   \n",
       "2          9      2002  41711    Diesel  90          1  ...               0   \n",
       "3          7      2002  48000    Diesel  90          0  ...               0   \n",
       "4          3      2002  38500    Diesel  90          0  ...               1   \n",
       "\n",
       "   Power_Steering  Radio  Mistlamps  Sport_Model  Backseat_Divider  \\\n",
       "0               1      0          0            0                 1   \n",
       "1               1      0          0            0                 1   \n",
       "2               1      0          0            0                 1   \n",
       "3               1      0          0            0                 1   \n",
       "4               1      0          1            0                 1   \n",
       "\n",
       "   Metallic_Rim  Radio_cassette  Parking_Assistant  Tow_Bar  \n",
       "0             0               0                  0        0  \n",
       "1             0               0                  0        0  \n",
       "2             0               0                  0        0  \n",
       "3             0               0                  0        0  \n",
       "4             0               0                  0        0  \n",
       "\n",
       "[5 rows x 39 columns]"
      ]
     },
     "execution_count": 227,
     "metadata": {},
     "output_type": "execute_result"
    }
   ],
   "source": [
    "#Let us just check a few entries. \n",
    "car_df.head()"
   ]
  },
  {
   "cell_type": "code",
   "execution_count": 228,
   "metadata": {},
   "outputs": [
    {
     "data": {
      "text/plain": [
       "(1436, 39)"
      ]
     },
     "execution_count": 228,
     "metadata": {},
     "output_type": "execute_result"
    }
   ],
   "source": [
    "#Let us just go through the dataset before we apply our linear regression. Check Shape. \n",
    "car_df.shape"
   ]
  },
  {
   "cell_type": "code",
   "execution_count": 229,
   "metadata": {},
   "outputs": [
    {
     "data": {
      "text/plain": [
       "['Id',\n",
       " 'Model',\n",
       " 'Price',\n",
       " 'Age_08_04',\n",
       " 'Mfg_Month',\n",
       " 'Mfg_Year',\n",
       " 'KM',\n",
       " 'Fuel_Type',\n",
       " 'HP',\n",
       " 'Met_Color',\n",
       " 'Color',\n",
       " 'Automatic',\n",
       " 'CC',\n",
       " 'Doors',\n",
       " 'Cylinders',\n",
       " 'Gears',\n",
       " 'Quarterly_Tax',\n",
       " 'Weight',\n",
       " 'Mfr_Guarantee',\n",
       " 'BOVAG_Guarantee',\n",
       " 'Guarantee_Period',\n",
       " 'ABS',\n",
       " 'Airbag_1',\n",
       " 'Airbag_2',\n",
       " 'Airco',\n",
       " 'Automatic_airco',\n",
       " 'Boardcomputer',\n",
       " 'CD_Player',\n",
       " 'Central_Lock',\n",
       " 'Powered_Windows',\n",
       " 'Power_Steering',\n",
       " 'Radio',\n",
       " 'Mistlamps',\n",
       " 'Sport_Model',\n",
       " 'Backseat_Divider',\n",
       " 'Metallic_Rim',\n",
       " 'Radio_cassette',\n",
       " 'Parking_Assistant',\n",
       " 'Tow_Bar']"
      ]
     },
     "execution_count": 229,
     "metadata": {},
     "output_type": "execute_result"
    }
   ],
   "source": [
    "#Check the column names \n",
    "car_df.columns.tolist()"
   ]
  },
  {
   "cell_type": "code",
   "execution_count": 230,
   "metadata": {},
   "outputs": [
    {
     "data": {
      "text/plain": [
       "Id                    int64\n",
       "Model                object\n",
       "Price                 int64\n",
       "Age_08_04             int64\n",
       "Mfg_Month             int64\n",
       "Mfg_Year              int64\n",
       "KM                    int64\n",
       "Fuel_Type            object\n",
       "HP                    int64\n",
       "Met_Color             int64\n",
       "Color                object\n",
       "Automatic             int64\n",
       "CC                    int64\n",
       "Doors                 int64\n",
       "Cylinders             int64\n",
       "Gears                 int64\n",
       "Quarterly_Tax         int64\n",
       "Weight                int64\n",
       "Mfr_Guarantee         int64\n",
       "BOVAG_Guarantee       int64\n",
       "Guarantee_Period      int64\n",
       "ABS                   int64\n",
       "Airbag_1              int64\n",
       "Airbag_2              int64\n",
       "Airco                 int64\n",
       "Automatic_airco       int64\n",
       "Boardcomputer         int64\n",
       "CD_Player             int64\n",
       "Central_Lock          int64\n",
       "Powered_Windows       int64\n",
       "Power_Steering        int64\n",
       "Radio                 int64\n",
       "Mistlamps             int64\n",
       "Sport_Model           int64\n",
       "Backseat_Divider      int64\n",
       "Metallic_Rim          int64\n",
       "Radio_cassette        int64\n",
       "Parking_Assistant     int64\n",
       "Tow_Bar               int64\n",
       "dtype: object"
      ]
     },
     "execution_count": 230,
     "metadata": {},
     "output_type": "execute_result"
    }
   ],
   "source": [
    "#Check the data types.\n",
    "car_df.dtypes"
   ]
  },
  {
   "cell_type": "code",
   "execution_count": 231,
   "metadata": {},
   "outputs": [
    {
     "data": {
      "text/plain": [
       "Id                   0\n",
       "Model                0\n",
       "Price                0\n",
       "Age_08_04            0\n",
       "Mfg_Month            0\n",
       "Mfg_Year             0\n",
       "KM                   0\n",
       "Fuel_Type            0\n",
       "HP                   0\n",
       "Met_Color            0\n",
       "Color                0\n",
       "Automatic            0\n",
       "CC                   0\n",
       "Doors                0\n",
       "Cylinders            0\n",
       "Gears                0\n",
       "Quarterly_Tax        0\n",
       "Weight               0\n",
       "Mfr_Guarantee        0\n",
       "BOVAG_Guarantee      0\n",
       "Guarantee_Period     0\n",
       "ABS                  0\n",
       "Airbag_1             0\n",
       "Airbag_2             0\n",
       "Airco                0\n",
       "Automatic_airco      0\n",
       "Boardcomputer        0\n",
       "CD_Player            0\n",
       "Central_Lock         0\n",
       "Powered_Windows      0\n",
       "Power_Steering       0\n",
       "Radio                0\n",
       "Mistlamps            0\n",
       "Sport_Model          0\n",
       "Backseat_Divider     0\n",
       "Metallic_Rim         0\n",
       "Radio_cassette       0\n",
       "Parking_Assistant    0\n",
       "Tow_Bar              0\n",
       "dtype: int64"
      ]
     },
     "execution_count": 231,
     "metadata": {},
     "output_type": "execute_result"
    }
   ],
   "source": [
    "#Check for any null values in the dataset. \n",
    "car_df.isnull().sum()"
   ]
  },
  {
   "cell_type": "markdown",
   "metadata": {},
   "source": [
    "### For the sake of this example we will pick a few predictors and then apply the whole correlation framework to find a potential subset of predictors. Don't want to make this thing too long. "
   ]
  },
  {
   "cell_type": "code",
   "execution_count": 232,
   "metadata": {},
   "outputs": [],
   "source": [
    "#Pick some random pred and response variables. \n",
    "new = ['KM', 'Fuel_Type', 'HP','Automatic', 'Weight','Power_Steering','Price']\n",
    "pred = ['KM', 'Fuel_Type', 'HP','Automatic', 'Weight','Power_Steering']\n",
    "response = 'Price'"
   ]
  },
  {
   "cell_type": "code",
   "execution_count": 233,
   "metadata": {},
   "outputs": [],
   "source": [
    "#Lets now create our new reduced dataset fir predictors \n",
    "car_df_new = car_df[new]"
   ]
  },
  {
   "cell_type": "code",
   "execution_count": 234,
   "metadata": {},
   "outputs": [
    {
     "data": {
      "text/plain": [
       "(1436, 7)"
      ]
     },
     "execution_count": 234,
     "metadata": {},
     "output_type": "execute_result"
    }
   ],
   "source": [
    "#Lets just make sure. Cool\n",
    "car_df_new.shape"
   ]
  },
  {
   "cell_type": "code",
   "execution_count": 235,
   "metadata": {},
   "outputs": [],
   "source": [
    "#Let us convert the object classes into dummy varibales for later. \n",
    "X = pd.get_dummies(car_df_new[pred],drop_first=True)\n",
    "Y = car_df[response]"
   ]
  },
  {
   "cell_type": "code",
   "execution_count": 236,
   "metadata": {},
   "outputs": [
    {
     "data": {
      "text/plain": [
       "<matplotlib.axes._subplots.AxesSubplot at 0x218077ff108>"
      ]
     },
     "execution_count": 236,
     "metadata": {},
     "output_type": "execute_result"
    },
    {
     "data": {
      "image/png": "[encoded data removed]",
      "text/plain": [
       "<Figure size 432x288 with 2 Axes>"
      ]
     },
     "metadata": {
      "needs_background": "light"
     },
     "output_type": "display_data"
    }
   ],
   "source": [
    "#Let us see what variables are corr with the target or response variable. \n",
    "cor = car_df_new.corr()\n",
    "sns.heatmap(cor,annot=True)"
   ]
  },
  {
   "cell_type": "code",
   "execution_count": 237,
   "metadata": {},
   "outputs": [
    {
     "data": {
      "text/plain": [
       "KM        0.569960\n",
       "Weight    0.581198\n",
       "Price     1.000000\n",
       "Name: Price, dtype: float64"
      ]
     },
     "execution_count": 237,
     "metadata": {},
     "output_type": "execute_result"
    }
   ],
   "source": [
    "#Now we just subset the corr for values which pass some cutoff. For this example we can just say that cutoff is 0.4\n",
    "target_cor = abs(cor[response])\n",
    "pos_cor_target = target_cor[target_cor > 0.4]\n",
    "pos_cor_target"
   ]
  },
  {
   "cell_type": "code",
   "execution_count": 238,
   "metadata": {},
   "outputs": [
    {
     "data": {
      "text/html": [
       "<div>\n",
       "<style scoped>\n",
       "    .dataframe tbody tr th:only-of-type {\n",
       "        vertical-align: middle;\n",
       "    }\n",
       "\n",
       "    .dataframe tbody tr th {\n",
       "        vertical-align: top;\n",
       "    }\n",
       "\n",
       "    .dataframe thead th {\n",
       "        text-align: right;\n",
       "    }\n",
       "</style>\n",
       "<table border=\"1\" class=\"dataframe\">\n",
       "  <thead>\n",
       "    <tr style=\"text-align: right;\">\n",
       "      <th></th>\n",
       "      <th>KM</th>\n",
       "      <th>Weight</th>\n",
       "    </tr>\n",
       "  </thead>\n",
       "  <tbody>\n",
       "    <tr>\n",
       "      <th>KM</th>\n",
       "      <td>1.000000</td>\n",
       "      <td>-0.028598</td>\n",
       "    </tr>\n",
       "    <tr>\n",
       "      <th>Weight</th>\n",
       "      <td>-0.028598</td>\n",
       "      <td>1.000000</td>\n",
       "    </tr>\n",
       "  </tbody>\n",
       "</table>\n",
       "</div>"
      ],
      "text/plain": [
       "              KM    Weight\n",
       "KM      1.000000 -0.028598\n",
       "Weight -0.028598  1.000000"
      ]
     },
     "execution_count": 238,
     "metadata": {},
     "output_type": "execute_result"
    }
   ],
   "source": [
    "#Want to make sure that KM and weight are not corr to each other. If they were we could drop one and use the other.\n",
    "#In this case we will use both in the model at the end. \n",
    "car_df_new[['KM','Weight']].corr()"
   ]
  },
  {
   "cell_type": "code",
   "execution_count": 239,
   "metadata": {},
   "outputs": [],
   "source": [
    "#Okay now we just refine our predictor class to the ones we kinda narrowed down above.\n",
    "X = X[['KM','Weight']]"
   ]
  },
  {
   "cell_type": "code",
   "execution_count": 240,
   "metadata": {},
   "outputs": [],
   "source": [
    "#We can now do a train test split for our data set. \n",
    "X_train, X_test, Y_train, Y_test = train_test_split(X,Y,test_size= 0.3,random_state = 10)"
   ]
  },
  {
   "cell_type": "code",
   "execution_count": 241,
   "metadata": {},
   "outputs": [
    {
     "data": {
      "text/plain": [
       "LinearRegression(copy_X=True, fit_intercept=True, n_jobs=None, normalize=False)"
      ]
     },
     "execution_count": 241,
     "metadata": {},
     "output_type": "execute_result"
    }
   ],
   "source": [
    "#Here we initialize our model and fit it to the data. \n",
    "lr_model = LinearRegression()\n",
    "lr_model.fit(X_train,Y_train)"
   ]
  },
  {
   "cell_type": "code",
   "execution_count": 242,
   "metadata": {},
   "outputs": [
    {
     "name": "stdout",
     "output_type": "stream",
     "text": [
      "intercept  -26949.05954453803\n",
      "  Predictor  coefficient\n",
      "0        KM    -0.052592\n",
      "1    Weight    38.498296\n"
     ]
    }
   ],
   "source": [
    "#Print out some values from the model. \n",
    "print('intercept ', lr_model.intercept_)\n",
    "print(pd.DataFrame({'Predictor': X.columns, 'coefficient': lr_model.coef_}))"
   ]
  },
  {
   "cell_type": "code",
   "execution_count": 243,
   "metadata": {},
   "outputs": [
    {
     "data": {
      "text/plain": [
       "[8811.0,\n",
       " 13081.0,\n",
       " 10423.0,\n",
       " 8886.0,\n",
       " 10370.0,\n",
       " 13511.0,\n",
       " 9956.0,\n",
       " 10874.0,\n",
       " 9624.0,\n",
       " 11424.0,\n",
       " 15258.0,\n",
       " 4842.0,\n",
       " 5296.0,\n",
       " 10085.0,\n",
       " 10521.0]"
      ]
     },
     "execution_count": 243,
     "metadata": {},
     "output_type": "execute_result"
    }
   ],
   "source": [
    "#I want to just look over the values the model predicts compared to the actual values for the price. Its off but not too insane.\n",
    "train_pred = lr_model.predict(X_train)\n",
    "train_pred[0:15].round().tolist()"
   ]
  },
  {
   "cell_type": "code",
   "execution_count": 244,
   "metadata": {},
   "outputs": [
    {
     "data": {
      "text/plain": [
       "[9750,\n",
       " 16750,\n",
       " 9650,\n",
       " 7460,\n",
       " 10500,\n",
       " 14950,\n",
       " 9450,\n",
       " 10250,\n",
       " 9895,\n",
       " 12950,\n",
       " 18950,\n",
       " 6750,\n",
       " 7950,\n",
       " 9950,\n",
       " 7950]"
      ]
     },
     "execution_count": 244,
     "metadata": {},
     "output_type": "execute_result"
    }
   ],
   "source": [
    "#Print out the first few values as well for comparison. \n",
    "Y_train[0:15].tolist()"
   ]
  },
  {
   "cell_type": "code",
   "execution_count": 245,
   "metadata": {},
   "outputs": [
    {
     "data": {
      "text/plain": [
       "0.6375912676199069"
      ]
     },
     "execution_count": 245,
     "metadata": {},
     "output_type": "execute_result"
    }
   ],
   "source": [
    "#Print out the model score. It isn't the greatest. But still better than no model, gives us a rough ballpark. \n",
    "lr_model.score(X_test,Y_test)"
   ]
  },
  {
   "cell_type": "code",
   "execution_count": 246,
   "metadata": {
    "scrolled": true
   },
   "outputs": [
    {
     "data": {
      "text/plain": [
       "Text(0, 0.5, 'Predicted')"
      ]
     },
     "execution_count": 246,
     "metadata": {},
     "output_type": "execute_result"
    },
    {
     "data": {
      "image/png": "[encoded data removed]",
      "text/plain": [
       "<Figure size 432x288 with 1 Axes>"
      ]
     },
     "metadata": {
      "needs_background": "light"
     },
     "output_type": "display_data"
    }
   ],
   "source": [
    "#Lets plot the actual vs predicted to see how it looks. Can see there are some extreme outliers. But the trend seems to be\n",
    "#somewhat linear. \n",
    "plt.scatter(Y_train,lr_model.predict(X_train))\n",
    "plt.xlabel(\"Actual\")\n",
    "plt.ylabel(\"Predicted\")"
   ]
  },
  {
   "cell_type": "code",
   "execution_count": 247,
   "metadata": {},
   "outputs": [],
   "source": [
    "#Gonna use this below. \n",
    "Y_predicted = lr_model.predict(X_test)"
   ]
  },
  {
   "cell_type": "code",
   "execution_count": 248,
   "metadata": {},
   "outputs": [],
   "source": [
    "#Create a datafram to see the results in a neat and tidy format. \n",
    "df_view = pd.DataFrame(X_test)\n",
    "df_view['Real Price'] = Y_test\n",
    "df_view['Predicted Price'] = Y_predicted"
   ]
  },
  {
   "cell_type": "code",
   "execution_count": 250,
   "metadata": {},
   "outputs": [
    {
     "data": {
      "text/html": [
       "<div>\n",
       "<style scoped>\n",
       "    .dataframe tbody tr th:only-of-type {\n",
       "        vertical-align: middle;\n",
       "    }\n",
       "\n",
       "    .dataframe tbody tr th {\n",
       "        vertical-align: top;\n",
       "    }\n",
       "\n",
       "    .dataframe thead th {\n",
       "        text-align: right;\n",
       "    }\n",
       "</style>\n",
       "<table border=\"1\" class=\"dataframe\">\n",
       "  <thead>\n",
       "    <tr style=\"text-align: right;\">\n",
       "      <th></th>\n",
       "      <th>KM</th>\n",
       "      <th>Weight</th>\n",
       "      <th>Real Price</th>\n",
       "      <th>Predicted Price</th>\n",
       "    </tr>\n",
       "  </thead>\n",
       "  <tbody>\n",
       "    <tr>\n",
       "      <th>995</th>\n",
       "      <td>42750</td>\n",
       "      <td>1050</td>\n",
       "      <td>9950</td>\n",
       "      <td>11225.831842</td>\n",
       "    </tr>\n",
       "    <tr>\n",
       "      <th>514</th>\n",
       "      <td>52448</td>\n",
       "      <td>1025</td>\n",
       "      <td>10500</td>\n",
       "      <td>9753.334513</td>\n",
       "    </tr>\n",
       "    <tr>\n",
       "      <th>612</th>\n",
       "      <td>154783</td>\n",
       "      <td>1120</td>\n",
       "      <td>7750</td>\n",
       "      <td>8028.641849</td>\n",
       "    </tr>\n",
       "    <tr>\n",
       "      <th>307</th>\n",
       "      <td>38932</td>\n",
       "      <td>1040</td>\n",
       "      <td>13500</td>\n",
       "      <td>11041.646197</td>\n",
       "    </tr>\n",
       "    <tr>\n",
       "      <th>981</th>\n",
       "      <td>45000</td>\n",
       "      <td>1050</td>\n",
       "      <td>9750</td>\n",
       "      <td>11107.499215</td>\n",
       "    </tr>\n",
       "    <tr>\n",
       "      <th>323</th>\n",
       "      <td>36066</td>\n",
       "      <td>1040</td>\n",
       "      <td>11250</td>\n",
       "      <td>11192.375667</td>\n",
       "    </tr>\n",
       "    <tr>\n",
       "      <th>494</th>\n",
       "      <td>58745</td>\n",
       "      <td>1035</td>\n",
       "      <td>11950</td>\n",
       "      <td>9807.143899</td>\n",
       "    </tr>\n",
       "    <tr>\n",
       "      <th>1275</th>\n",
       "      <td>74151</td>\n",
       "      <td>1050</td>\n",
       "      <td>7250</td>\n",
       "      <td>9574.381702</td>\n",
       "    </tr>\n",
       "    <tr>\n",
       "      <th>35</th>\n",
       "      <td>43000</td>\n",
       "      <td>1100</td>\n",
       "      <td>15750</td>\n",
       "      <td>13137.598596</td>\n",
       "    </tr>\n",
       "    <tr>\n",
       "      <th>1002</th>\n",
       "      <td>39144</td>\n",
       "      <td>1050</td>\n",
       "      <td>8250</td>\n",
       "      <td>11415.479599</td>\n",
       "    </tr>\n",
       "  </tbody>\n",
       "</table>\n",
       "</div>"
      ],
      "text/plain": [
       "          KM  Weight  Real Price  Predicted Price\n",
       "995    42750    1050        9950     11225.831842\n",
       "514    52448    1025       10500      9753.334513\n",
       "612   154783    1120        7750      8028.641849\n",
       "307    38932    1040       13500     11041.646197\n",
       "981    45000    1050        9750     11107.499215\n",
       "323    36066    1040       11250     11192.375667\n",
       "494    58745    1035       11950      9807.143899\n",
       "1275   74151    1050        7250      9574.381702\n",
       "35     43000    1100       15750     13137.598596\n",
       "1002   39144    1050        8250     11415.479599"
      ]
     },
     "execution_count": 250,
     "metadata": {},
     "output_type": "execute_result"
    }
   ],
   "source": [
    "#This can be exported into a csv file if need be. But we can look at the first 10 entries. \n",
    "df_view.head(10)"
   ]
  },
  {
   "cell_type": "code",
   "execution_count": 167,
   "metadata": {},
   "outputs": [
    {
     "name": "stdout",
     "output_type": "stream",
     "text": [
      "\n",
      "Regression statistics\n",
      "\n",
      "                      Mean Error (ME) : -12.2066\n",
      "       Root Mean Squared Error (RMSE) : 2274.8381\n",
      "            Mean Absolute Error (MAE) : 1639.4751\n",
      "          Mean Percentage Error (MPE) : -4.1471\n",
      "Mean Absolute Percentage Error (MAPE) : 16.0382\n"
     ]
    }
   ],
   "source": [
    "#We can also see how the model preforms with various metrics as given below. \n",
    "regressionSummary(Y_test, lr_model.predict(X_test))"
   ]
  },
  {
   "cell_type": "markdown",
   "metadata": {},
   "source": [
    "### This completes this little project. "
   ]
  }
 ],
 "metadata": {
  "kernelspec": {
   "display_name": "Python 3",
   "language": "python",
   "name": "python3"
  },
  "language_info": {
   "codemirror_mode": {
    "name": "ipython",
    "version": 3
   },
   "file_extension": ".py",
   "mimetype": "text/x-python",
   "name": "python",
   "nbconvert_exporter": "python",
   "pygments_lexer": "ipython3",
   "version": "3.7.6"
  }
 },
 "nbformat": 4,
 "nbformat_minor": 4
}
